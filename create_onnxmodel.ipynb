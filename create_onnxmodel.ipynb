{
 "cells": [
  {
   "cell_type": "code",
   "execution_count": 1,
   "id": "edc3eae3",
   "metadata": {},
   "outputs": [],
   "source": [
    "import torch\n",
    "import onnx\n",
    "import onnxruntime\n",
    "import numpy as np\n",
    "import cv2\n",
    "from torchvision.transforms import transforms"
   ]
  },
  {
   "cell_type": "code",
   "execution_count": 3,
   "id": "bb55c712",
   "metadata": {},
   "outputs": [
    {
     "data": {
      "text/plain": [
       "RecursiveScriptModule(\n",
       "  original_name=AbolfazNework\n",
       "  (pretrained_model): RecursiveScriptModule(\n",
       "    original_name=ResNet\n",
       "    (conv1): RecursiveScriptModule(original_name=Conv2d)\n",
       "    (bn1): RecursiveScriptModule(original_name=BatchNorm2d)\n",
       "    (relu): RecursiveScriptModule(original_name=ReLU)\n",
       "    (maxpool): RecursiveScriptModule(original_name=MaxPool2d)\n",
       "    (layer1): RecursiveScriptModule(\n",
       "      original_name=Sequential\n",
       "      (0): RecursiveScriptModule(\n",
       "        original_name=BasicBlock\n",
       "        (conv1): RecursiveScriptModule(original_name=Conv2d)\n",
       "        (bn1): RecursiveScriptModule(original_name=BatchNorm2d)\n",
       "        (relu): RecursiveScriptModule(original_name=ReLU)\n",
       "        (conv2): RecursiveScriptModule(original_name=Conv2d)\n",
       "        (bn2): RecursiveScriptModule(original_name=BatchNorm2d)\n",
       "      )\n",
       "      (1): RecursiveScriptModule(\n",
       "        original_name=BasicBlock\n",
       "        (conv1): RecursiveScriptModule(original_name=Conv2d)\n",
       "        (bn1): RecursiveScriptModule(original_name=BatchNorm2d)\n",
       "        (relu): RecursiveScriptModule(original_name=ReLU)\n",
       "        (conv2): RecursiveScriptModule(original_name=Conv2d)\n",
       "        (bn2): RecursiveScriptModule(original_name=BatchNorm2d)\n",
       "      )\n",
       "    )\n",
       "    (layer2): RecursiveScriptModule(\n",
       "      original_name=Sequential\n",
       "      (0): RecursiveScriptModule(\n",
       "        original_name=BasicBlock\n",
       "        (conv1): RecursiveScriptModule(original_name=Conv2d)\n",
       "        (bn1): RecursiveScriptModule(original_name=BatchNorm2d)\n",
       "        (relu): RecursiveScriptModule(original_name=ReLU)\n",
       "        (conv2): RecursiveScriptModule(original_name=Conv2d)\n",
       "        (bn2): RecursiveScriptModule(original_name=BatchNorm2d)\n",
       "        (downsample): RecursiveScriptModule(\n",
       "          original_name=Sequential\n",
       "          (0): RecursiveScriptModule(original_name=Conv2d)\n",
       "          (1): RecursiveScriptModule(original_name=BatchNorm2d)\n",
       "        )\n",
       "      )\n",
       "      (1): RecursiveScriptModule(\n",
       "        original_name=BasicBlock\n",
       "        (conv1): RecursiveScriptModule(original_name=Conv2d)\n",
       "        (bn1): RecursiveScriptModule(original_name=BatchNorm2d)\n",
       "        (relu): RecursiveScriptModule(original_name=ReLU)\n",
       "        (conv2): RecursiveScriptModule(original_name=Conv2d)\n",
       "        (bn2): RecursiveScriptModule(original_name=BatchNorm2d)\n",
       "      )\n",
       "    )\n",
       "    (layer3): RecursiveScriptModule(\n",
       "      original_name=Sequential\n",
       "      (0): RecursiveScriptModule(\n",
       "        original_name=BasicBlock\n",
       "        (conv1): RecursiveScriptModule(original_name=Conv2d)\n",
       "        (bn1): RecursiveScriptModule(original_name=BatchNorm2d)\n",
       "        (relu): RecursiveScriptModule(original_name=ReLU)\n",
       "        (conv2): RecursiveScriptModule(original_name=Conv2d)\n",
       "        (bn2): RecursiveScriptModule(original_name=BatchNorm2d)\n",
       "        (downsample): RecursiveScriptModule(\n",
       "          original_name=Sequential\n",
       "          (0): RecursiveScriptModule(original_name=Conv2d)\n",
       "          (1): RecursiveScriptModule(original_name=BatchNorm2d)\n",
       "        )\n",
       "      )\n",
       "      (1): RecursiveScriptModule(\n",
       "        original_name=BasicBlock\n",
       "        (conv1): RecursiveScriptModule(original_name=Conv2d)\n",
       "        (bn1): RecursiveScriptModule(original_name=BatchNorm2d)\n",
       "        (relu): RecursiveScriptModule(original_name=ReLU)\n",
       "        (conv2): RecursiveScriptModule(original_name=Conv2d)\n",
       "        (bn2): RecursiveScriptModule(original_name=BatchNorm2d)\n",
       "      )\n",
       "    )\n",
       "    (layer4): RecursiveScriptModule(\n",
       "      original_name=Sequential\n",
       "      (0): RecursiveScriptModule(\n",
       "        original_name=BasicBlock\n",
       "        (conv1): RecursiveScriptModule(original_name=Conv2d)\n",
       "        (bn1): RecursiveScriptModule(original_name=BatchNorm2d)\n",
       "        (relu): RecursiveScriptModule(original_name=ReLU)\n",
       "        (conv2): RecursiveScriptModule(original_name=Conv2d)\n",
       "        (bn2): RecursiveScriptModule(original_name=BatchNorm2d)\n",
       "        (downsample): RecursiveScriptModule(\n",
       "          original_name=Sequential\n",
       "          (0): RecursiveScriptModule(original_name=Conv2d)\n",
       "          (1): RecursiveScriptModule(original_name=BatchNorm2d)\n",
       "        )\n",
       "      )\n",
       "      (1): RecursiveScriptModule(\n",
       "        original_name=BasicBlock\n",
       "        (conv1): RecursiveScriptModule(original_name=Conv2d)\n",
       "        (bn1): RecursiveScriptModule(original_name=BatchNorm2d)\n",
       "        (relu): RecursiveScriptModule(original_name=ReLU)\n",
       "        (conv2): RecursiveScriptModule(original_name=Conv2d)\n",
       "        (bn2): RecursiveScriptModule(original_name=BatchNorm2d)\n",
       "      )\n",
       "    )\n",
       "    (avgpool): RecursiveScriptModule(original_name=AdaptiveAvgPool2d)\n",
       "    (fc): RecursiveScriptModule(original_name=Linear)\n",
       "  )\n",
       "  (act): RecursiveScriptModule(original_name=Softmax)\n",
       ")"
      ]
     },
     "execution_count": 3,
     "metadata": {},
     "output_type": "execute_result"
    }
   ],
   "source": [
    "net = torch.jit.load(\"/home/mohammad/Documents/gender_detection/Abolfazl_gender_detection.pt\").to('cpu')\n",
    "net.eval()"
   ]
  },
  {
   "cell_type": "code",
   "execution_count": 6,
   "id": "687c588c",
   "metadata": {},
   "outputs": [
    {
     "name": "stderr",
     "output_type": "stream",
     "text": [
      "/home/mohammad/Documents/hair_segmentation(trained_verstion)/env3.7/lib/python3.7/site-packages/torch/onnx/utils.py:823: UserWarning: no signature found for <torch.ScriptMethod object at 0x7f9c68634bf8>, skipping _decide_input_format\n",
      "  warnings.warn(f\"{e}, skipping _decide_input_format\")\n"
     ]
    }
   ],
   "source": [
    "# Input to the model\n",
    "x = torch.randn(1, 3, 224, 224, requires_grad=True).to('cpu')\n",
    "torch_out = net(x)\n",
    "\n",
    "# Export the model\n",
    "torch.onnx.export(net,               # model being run\n",
    "                  x,                         # model input (or a tuple for multiple inputs)\n",
    "                  \"/home/mohammad/Documents/gender_detection/ff.onnx\",   # where to save the model (can be a file or file-like object)\n",
    "                  export_params=True,        # store the trained parameter weights inside the model file\n",
    "                  opset_version=10,          # the ONNX version to export the model to\n",
    "                  do_constant_folding=True,  # whether to execute constant folding for optimization\n",
    "                  input_names = ['input'],   # the model's input names\n",
    "                  output_names = ['output'], # the model's output names\n",
    "                  dynamic_axes={'input' : {0 : 'batch_size'}, 'output' : {0 : 'batch_size'}})"
   ]
  },
  {
   "cell_type": "code",
   "execution_count": 7,
   "id": "2f87eb0a",
   "metadata": {},
   "outputs": [],
   "source": [
    "onnx_model = onnx.load(\"/home/mohammad/Documents/gender_detection/ff.onnx\")\n",
    "onnx.checker.check_model(onnx_model)"
   ]
  },
  {
   "cell_type": "code",
   "execution_count": 8,
   "id": "f6a6b223",
   "metadata": {},
   "outputs": [],
   "source": [
    "ort_session = onnxruntime.InferenceSession(\"/home/mohammad/Documents/gender_detection/ff.onnx\")\n"
   ]
  },
  {
   "cell_type": "code",
   "execution_count": 9,
   "id": "2207ed5c",
   "metadata": {},
   "outputs": [
    {
     "name": "stdout",
     "output_type": "stream",
     "text": [
      "Exported model has been tested with ONNXRuntime, and the result looks good!\n"
     ]
    }
   ],
   "source": [
    "ort_session = onnxruntime.InferenceSession(\"/home/mohammad/Documents/gender_detection/ff.onnx\")\n",
    "\n",
    "def to_numpy(tensor):\n",
    "    return tensor.detach().cpu().numpy() if tensor.requires_grad else tensor.cpu().numpy()\n",
    "\n",
    "# compute ONNX Runtime output prediction\n",
    "ort_inputs = {ort_session.get_inputs()[0].name: to_numpy(x)}\n",
    "ort_outs = ort_session.run(None, ort_inputs)\n",
    "\n",
    "# compare ONNX Runtime and PyTorch results\n",
    "np.testing.assert_allclose(to_numpy(torch_out), ort_outs[0], rtol=1e-03, atol=1e-05)\n",
    "\n",
    "print(\"Exported model has been tested with ONNXRuntime, and the result looks good!\")"
   ]
  },
  {
   "cell_type": "code",
   "execution_count": 35,
   "id": "ebc04146",
   "metadata": {},
   "outputs": [],
   "source": [
    "image = cv2.imread(\"/home/mohammad/Documents/GenderClassifiey/all_tracked_faces/121/Last_frame_number_2102_IQA_score_0.080791_Camera_Number_0_area_conf_0.484589_.jpg\")\n",
    "tr = transforms.Compose([transforms.ToTensor(), transforms.Resize((224, 224))])\n",
    "image = tr(image).reshape((1, 3, 224, 224))"
   ]
  },
  {
   "cell_type": "code",
   "execution_count": 36,
   "id": "5d1983bd",
   "metadata": {},
   "outputs": [],
   "source": [
    "ort_inputs = {ort_session.get_inputs()[0].name: to_numpy(image)}\n",
    "ort_outs = ort_session.run(None, ort_inputs)\n",
    "img_out_y = ort_outs[0]"
   ]
  },
  {
   "cell_type": "code",
   "execution_count": 37,
   "id": "312b86d0",
   "metadata": {},
   "outputs": [
    {
     "name": "stdout",
     "output_type": "stream",
     "text": [
      "[[0.7094111  0.29058892]]\n"
     ]
    }
   ],
   "source": [
    "print(img_out_y)"
   ]
  }
 ],
 "metadata": {
  "kernelspec": {
   "display_name": "Python 3 (ipykernel)",
   "language": "python",
   "name": "python3"
  },
  "language_info": {
   "codemirror_mode": {
    "name": "ipython",
    "version": 3
   },
   "file_extension": ".py",
   "mimetype": "text/x-python",
   "name": "python",
   "nbconvert_exporter": "python",
   "pygments_lexer": "ipython3",
   "version": "3.7.3"
  }
 },
 "nbformat": 4,
 "nbformat_minor": 5
}
